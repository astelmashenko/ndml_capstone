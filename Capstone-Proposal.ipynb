{
 "cells": [
  {
   "cell_type": "markdown",
   "metadata": {},
   "source": [
    "# Capstone Proposal"
   ]
  },
  {
   "cell_type": "markdown",
   "metadata": {},
   "source": [
    "## Domain Background\n",
    "\n",
    "Loans are very popular in US. People take loans for education, property, car, etc. The difinition of loan is:<br/>\n",
    "A loan is money, property or other material goods that is given to another party in exchange for future repayment of the loan value amount along with interest or other finance charges \\[1\\].There is a risk that a lender may not receive given credit back, it's called 'Credit Risk' \\[2\\]. Lenders, of course, want to minimize credit risks, for that they calculate 'Credit Score' \\[3\\]. A credit score is a number representing the creditworthiness of a person, the likelihood that person will pay his or her debts. Credit score is composed from several components related to a person, one of major components is 'Credit History'. A credit history is a record of a borrower's responsible repayment of debts.<br/>\n",
    "Many people struggle to get loans due to insufficient or non-existent credit histories. And, unfortunately, this population is often taken advantage of by untrustworthy lenders. It's possible to use alternative data, including telco and transactional information, to predict their clients' repayment abilities, which can help people to get loans from trustworthy lenders.<br/>\n",
    "My interest in the project is to take part in a real world problem, to work with real world not-prepared/not-cleaned data, take part in a competition (this project is from kaggle platform \\[4\\])."
   ]
  },
  {
   "cell_type": "markdown",
   "metadata": {},
   "source": [
    "## Problem Statement\n",
    "\n",
    "There is a company [Home Credit](http://www.homecredit.net/) which works with the category of unbanked population. They have a set of data: client's previous credits provided by other financial institutions that were reported to Credit Bureau; Monthly balances of previous credits in Credit Bureau; monthly snapshots of credit card balances, cash loans applicant has/had with Home Credit; previous applications for Home Credit. Also they have a historical target score for existing customers, they want to predict for new applicants. The problem of this project it to predict probability that a person will pay it's debts based on related to the person financial information, some kind of alternative to 'Credit Score'. It looks like a regression problem, when it's needed to predict a number based on existing historical data."
   ]
  },
  {
   "cell_type": "markdown",
   "metadata": {},
   "source": [
    "## Datasets and Inputs\n",
    "\n",
    "Dataset is provided by competition organizer - HomeCredit company, and it is hosted on kaggle platform. There are seven different sources of data:\n",
    "* application_train/test: the main training and testing data with information about each loan application at Home Credit. Every loan has its own row and is identified by the feature SK_ID_CURR. The training application data comes with the TARGET indicating 0: the loan was repaid or 1: the loan was not repaid.\n",
    "* bureau: data concerning client's previous credits from other financial institutions. Each previous credit has its own row in bureau, but one loan in the application data can have multiple previous credits.\n",
    "* bureau_balance: monthly data about the previous credits in bureau. Each row is one month of a previous credit, and a single previous credit can have multiple rows, one for each month of the credit length.\n",
    "* previous_application: previous applications for loans at Home Credit of clients who have loans in the application data. Each current loan in the application data can have multiple previous loans. Each previous application has one row and is identified by the feature SK_ID_PREV.\n",
    "* POS_CASH_BALANCE: monthly data about previous point of sale or cash loans clients have had with Home Credit. Each row is one month of a previous point of sale or cash loan, and a single previous loan can have many rows.\n",
    "* credit_card_balance: monthly data about previous credit cards clients have had with Home Credit. Each row is one month of a credit card balance, and a single credit card can have many rows.\n",
    "* installments_payment: payment history for previous loans at Home Credit. There is one row for every made payment and one row for every missed payment.\n",
    "\n",
    "HomeCredit_columns_description.csv file contains descriptions for the columns in the various data files. There are 221 row in the file with human-readable description for each column.\n",
    "\n",
    "This diagram shows how all of the data is related:\n",
    "\n",
    "![Data Relation](assets/home_credit.png)\n",
    "\n",
    "application_train.csv file contains number of columns with categorical and continuous values, it also contains `target` column which should be predicted. It looks like classic Regression task \\[5\\], however `target` is either 1 or 0, so the complexity here is develop some sort transformation of the target to make it in range \\[0, 1\\] and then apply regression algorithms. Overall it looks like solveable problem based on provided data."
   ]
  },
  {
   "cell_type": "markdown",
   "metadata": {},
   "source": [
    "## Solution Statement\n",
    "\n",
    "An existing regression algorithm of supervised learning \\[6\\] can be considered to solve the problem. E.g. SVM regressor or neural netwrok based solution which predicts probability. Set of provided inputs is possible to transform to a matrix of numbers, where each row will represent a customer related financial data and target probability, a row will be algorithm intput to train on. Of course, data should be prepared beforehand (cleaned up, categorical features transformed, continuous features scaled if needed). Once algorithm is trained it is possible to use it to make prediction of probability applicant will pay debts back, based on data collected for a customer."
   ]
  },
  {
   "cell_type": "markdown",
   "metadata": {},
   "source": [
    "## Benchmark Model\n",
    "\n",
    "Test set is provided by HomeCredit company to test a model. It is in the application_test file, which is the same as application_train, except it does not have `target` column. It is supposed that the trained algorithm predictions will be stored in a certain format and submitted to kaggle for evaluation. I believe HomeCredit makes comparision to their existing statisctical model results. Results from such comparision between existing model results and developed model will be as a benchmark for the developed model."
   ]
  },
  {
   "cell_type": "markdown",
   "metadata": {},
   "source": [
    "## Evaluation Metrics\n",
    "(approx. 1-2 paragraphs)\n",
    "\n",
    "In this section, propose at least one evaluation metric that can be used to quantify the performance of both the benchmark model and the solution model. The evaluation metric(s) you propose should be appropriate given the context of the data, the problem statement, and the intended solution. Describe how the evaluation metric(s) are derived and provide an example of their mathematical representations (if applicable). Complex evaluation metrics should be clearly defined and quantifiable (can be expressed in mathematical or logical terms)."
   ]
  },
  {
   "cell_type": "markdown",
   "metadata": {},
   "source": [
    "## Project Design\n",
    "(approx. 1 page)\n",
    "\n",
    "In this final section, summarize a theoretical workflow for approaching a solution given the problem. Provide thorough discussion for what strategies you may consider employing, what analysis of the data might be required before being used, or which algorithms will be considered for your implementation. The workflow and discussion that you provide should align with the qualities of the previous sections. Additionally, you are encouraged to include small visualizations, pseudocode, or diagrams to aid in describing the project design, but it is not required. The discussion should clearly outline your intended workflow of the capstone project."
   ]
  },
  {
   "cell_type": "markdown",
   "metadata": {},
   "source": [
    "## Resources\n",
    "1. [Investopedia - Loan](https://www.investopedia.com/terms/l/loan.asp)\n",
    "2. [Wikipedia - Credit Risk](https://en.wikipedia.org/wiki/Credit_risk)\n",
    "3. [Wikipedia - Credit Score](https://en.wikipedia.org/wiki/Credit_score_in_the_United_States)\n",
    "4. [Kaggle - Home Credit](https://www.kaggle.com/c/home-credit-default-risk)\n",
    "5. [Wikipedia - Linear Regression](https://en.wikipedia.org/wiki/Linear_regression)\n",
    "6. [sk-learn - supervised learning](http://scikit-learn.org/stable/supervised_learning.html)"
   ]
  },
  {
   "cell_type": "code",
   "execution_count": null,
   "metadata": {},
   "outputs": [],
   "source": []
  }
 ],
 "metadata": {
  "kernelspec": {
   "display_name": "Python 3",
   "language": "python",
   "name": "python3"
  },
  "language_info": {
   "codemirror_mode": {
    "name": "ipython",
    "version": 3
   },
   "file_extension": ".py",
   "mimetype": "text/x-python",
   "name": "python",
   "nbconvert_exporter": "python",
   "pygments_lexer": "ipython3",
   "version": "3.5.2"
  }
 },
 "nbformat": 4,
 "nbformat_minor": 2
}
