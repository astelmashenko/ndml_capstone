{
 "cells": [
  {
   "cell_type": "markdown",
   "metadata": {},
   "source": [
    "# Lightgbm"
   ]
  },
  {
   "cell_type": "code",
   "execution_count": 1,
   "metadata": {},
   "outputs": [],
   "source": [
    "import numpy as np\n",
    "import pandas as pd\n",
    "import time\n",
    "\n",
    "import warnings\n",
    "warnings.filterwarnings('ignore')\n",
    "\n",
    "import lightgbm\n",
    "\n",
    "from sklearn.externals import joblib\n",
    "from sklearn.model_selection import StratifiedKFold, train_test_split\n",
    "from sklearn.model_selection import ParameterGrid, RandomizedSearchCV, ParameterSampler\n",
    "\n",
    "from IPython.display import display\n",
    "\n",
    "from utils import *"
   ]
  },
  {
   "cell_type": "code",
   "execution_count": 2,
   "metadata": {},
   "outputs": [],
   "source": [
    "pd.set_option('display.max_columns', 500)\n",
    "pd.set_option('display.max_rows', 500)\n",
    "%load_ext autoreload\n",
    "%autoreload 2\n",
    "%matplotlib inline"
   ]
  },
  {
   "cell_type": "markdown",
   "metadata": {},
   "source": [
    "### Load possible outliers (Optional)"
   ]
  },
  {
   "cell_type": "code",
   "execution_count": 3,
   "metadata": {},
   "outputs": [],
   "source": [
    "outliers_idx = np.load('isolation_forest_outliers.npy', mmap_mode='r')\n",
    "outliers_idx = np.array(outliers_idx)"
   ]
  },
  {
   "cell_type": "markdown",
   "metadata": {},
   "source": [
    "### Load data"
   ]
  },
  {
   "cell_type": "code",
   "execution_count": 3,
   "metadata": {},
   "outputs": [
    {
     "name": "stdout",
     "output_type": "stream",
     "text": [
      "(307511, 199)\n"
     ]
    }
   ],
   "source": [
    "train = pd.read_csv('input/train.csv')\n",
    "print(train.shape)"
   ]
  },
  {
   "cell_type": "code",
   "execution_count": 16,
   "metadata": {},
   "outputs": [],
   "source": [
    "#display(train.head(2))"
   ]
  },
  {
   "cell_type": "code",
   "execution_count": 4,
   "metadata": {},
   "outputs": [
    {
     "name": "stdout",
     "output_type": "stream",
     "text": [
      "(48744, 198)\n"
     ]
    }
   ],
   "source": [
    "test = pd.read_csv('input/test.csv')\n",
    "print(test.shape)"
   ]
  },
  {
   "cell_type": "markdown",
   "metadata": {},
   "source": [
    "Outliers removal (optional step)"
   ]
  },
  {
   "cell_type": "code",
   "execution_count": null,
   "metadata": {},
   "outputs": [],
   "source": [
    "train = train.drop(index=train.index[outliers_idx])\n",
    "train = train.reset_index(drop=True)"
   ]
  },
  {
   "cell_type": "markdown",
   "metadata": {},
   "source": [
    "Removing service and target columns"
   ]
  },
  {
   "cell_type": "code",
   "execution_count": 5,
   "metadata": {},
   "outputs": [],
   "source": [
    "targets = train[['TARGET']]\n",
    "\n",
    "train_ids = train['SK_ID_CURR']\n",
    "train = train.drop(columns=['SK_ID_CURR', 'TARGET'])"
   ]
  },
  {
   "cell_type": "code",
   "execution_count": 6,
   "metadata": {},
   "outputs": [],
   "source": [
    "test_ids = test['SK_ID_CURR']\n",
    "test = test.drop(columns=['SK_ID_CURR'])"
   ]
  },
  {
   "cell_type": "code",
   "execution_count": 17,
   "metadata": {},
   "outputs": [
    {
     "data": {
      "text/plain": [
       "(307511, 1)"
      ]
     },
     "execution_count": 17,
     "metadata": {},
     "output_type": "execute_result"
    }
   ],
   "source": [
    "targets.shape"
   ]
  },
  {
   "cell_type": "markdown",
   "metadata": {},
   "source": [
    "### Drop redundant columns\n",
    "Columns which almost identical (correlation is close to 1)"
   ]
  },
  {
   "cell_type": "code",
   "execution_count": 8,
   "metadata": {},
   "outputs": [],
   "source": [
    "cols_drop = appartment_mode_cols + appartment_medi_cols\n",
    "train.drop(columns=cols_drop, inplace=True)\n",
    "test.drop(columns=cols_drop, inplace=True)"
   ]
  },
  {
   "cell_type": "code",
   "execution_count": 9,
   "metadata": {},
   "outputs": [
    {
     "name": "stdout",
     "output_type": "stream",
     "text": [
      "(307511, 177)\n",
      "(48744, 177)\n"
     ]
    }
   ],
   "source": [
    "print(train.shape)\n",
    "print(test.shape)"
   ]
  },
  {
   "cell_type": "markdown",
   "metadata": {},
   "source": [
    "### List Categorical Features"
   ]
  },
  {
   "cell_type": "code",
   "execution_count": 10,
   "metadata": {},
   "outputs": [],
   "source": [
    "cat_features = train.select_dtypes('object').columns.tolist()"
   ]
  },
  {
   "cell_type": "code",
   "execution_count": 11,
   "metadata": {},
   "outputs": [],
   "source": [
    "for col in cat_features: \n",
    "    train[col] = train[col].astype('category') \n",
    "    test[col] = test[col].astype('category') "
   ]
  },
  {
   "cell_type": "markdown",
   "metadata": {},
   "source": [
    "### Parameter Tuning"
   ]
  },
  {
   "cell_type": "code",
   "execution_count": 30,
   "metadata": {},
   "outputs": [
    {
     "name": "stdout",
     "output_type": "stream",
     "text": [
      "Training until validation scores don't improve for 100 rounds.\n",
      "[100]\ttrain's auc: 0.749424\tvalid's auc: 0.733532\n",
      "Did not meet early stopping. Best iteration is:\n",
      "[160]\ttrain's auc: 0.761489\tvalid's auc: 0.742569\n",
      "Training until validation scores don't improve for 100 rounds.\n",
      "[100]\ttrain's auc: 0.749747\tvalid's auc: 0.737687\n",
      "Did not meet early stopping. Best iteration is:\n",
      "[160]\ttrain's auc: 0.761263\tvalid's auc: 0.746477\n",
      "Training until validation scores don't improve for 100 rounds.\n",
      "[100]\ttrain's auc: 0.749747\tvalid's auc: 0.73799\n",
      "Did not meet early stopping. Best iteration is:\n",
      "[160]\ttrain's auc: 0.760758\tvalid's auc: 0.746349\n",
      "Training until validation scores don't improve for 100 rounds.\n",
      "[100]\ttrain's auc: 0.749609\tvalid's auc: 0.737701\n",
      "Did not meet early stopping. Best iteration is:\n",
      "[160]\ttrain's auc: 0.760712\tvalid's auc: 0.745379\n",
      "Training until validation scores don't improve for 100 rounds.\n",
      "[100]\ttrain's auc: 0.748766\tvalid's auc: 0.738204\n",
      "Did not meet early stopping. Best iteration is:\n",
      "[160]\ttrain's auc: 0.760371\tvalid's auc: 0.746593\n",
      "Training until validation scores don't improve for 100 rounds.\n",
      "[100]\ttrain's auc: 0.799766\tvalid's auc: 0.770806\n",
      "Did not meet early stopping. Best iteration is:\n",
      "[160]\ttrain's auc: 0.814303\tvalid's auc: 0.773081\n",
      "Training until validation scores don't improve for 100 rounds.\n",
      "[100]\ttrain's auc: 0.799464\tvalid's auc: 0.77299\n",
      "Did not meet early stopping. Best iteration is:\n",
      "[160]\ttrain's auc: 0.814186\tvalid's auc: 0.775153\n",
      "Training until validation scores don't improve for 100 rounds.\n",
      "[100]\ttrain's auc: 0.799303\tvalid's auc: 0.7734\n",
      "Did not meet early stopping. Best iteration is:\n",
      "[160]\ttrain's auc: 0.814375\tvalid's auc: 0.774863\n",
      "Training until validation scores don't improve for 100 rounds.\n",
      "[100]\ttrain's auc: 0.79947\tvalid's auc: 0.771648\n",
      "Did not meet early stopping. Best iteration is:\n",
      "[160]\ttrain's auc: 0.814646\tvalid's auc: 0.773559\n",
      "Training until validation scores don't improve for 100 rounds.\n",
      "[100]\ttrain's auc: 0.799307\tvalid's auc: 0.774156\n",
      "Did not meet early stopping. Best iteration is:\n",
      "[160]\ttrain's auc: 0.814021\tvalid's auc: 0.776197\n"
     ]
    }
   ],
   "source": [
    "best_params = {\n",
    "    'learning_rate': 0.1,\n",
    "    'max_depth': -1,\n",
    "    'min_child_samples': 20,\n",
    "    'n_estimators': 10000,\n",
    "    'num_leaves': 32,\n",
    "    'reg_alpha': 0.5,\n",
    "    'reg_lambda': 0.5\n",
    "}\n",
    "\n",
    "params = {\n",
    "    'learning_rate': [0.01, 0.1],\n",
    "    'n_estimators': [8000, 16000],\n",
    "    'num_leaves': [16, 32],\n",
    "    'max_depth': [-1, 4, 7],\n",
    "    'min_child_samples': [10, 20, 40],\n",
    "    'reg_alpha': [0.1, 0.5, 1.0],\n",
    "    'reg_lambda': [0.1, 0.5, 1.0],\n",
    "    'max_bin': [127, 255]\n",
    "}\n",
    "\n",
    "# rscv = RandomizedSearchCV(model, params, n_iter=20, cv=5, n_jobs=1, verbose=1)\n",
    "# rscv.fit(train, targets[['TARGET']], categorical_feature=cat_features,\n",
    "#          eval_metric='auc', verbose=100)\n",
    "cv_results = []\n",
    "\n",
    "for i, param_smple in enumerate(list(ParameterSampler(params, 20))):\n",
    "    k_fold = StratifiedKFold(n_splits=5, shuffle=True, random_state=42)\n",
    "    valid_scores = []\n",
    "    train_scores = []\n",
    "    params_ = dict(param_smple)\n",
    "    params_['params'] = param_smple\n",
    "    start = time.time()\n",
    "    fold_i = 0\n",
    "    for train_indices, valid_indices in k_fold.split(train, targets):\n",
    "        train_features, train_labels = train.iloc[train_indices], targets.iloc[train_indices]\n",
    "        valid_features, valid_labels = train.iloc[valid_indices], targets.iloc[valid_indices]\n",
    "        test_features = test\n",
    "        model = lightgbm.LGBMClassifier(n_estimators=param_smple['n_estimators'], objective='binary', \n",
    "                                    class_weight='balanced', learning_rate=param_smple['learning_rate'], \n",
    "                                    num_leaves=param_smple['num_leaves'], max_depth=param_smple['max_depth'],\n",
    "                                    reg_alpha=param_smple['reg_alpha'], reg_lambda=param_smple['reg_lambda'], \n",
    "                                    min_child_samples=param_smple['min_child_samples'],\n",
    "                                    subsample=0.8, n_jobs=6, random_state=4242, max_bin=param_smple['max_bin'])\n",
    "    \n",
    "        model.fit(train_features, train_labels, eval_metric='auc', categorical_feature=cat_features,\n",
    "                      eval_set=[(valid_features, valid_labels), (train_features, train_labels)],\n",
    "                      eval_names=['valid', 'train'], early_stopping_rounds=100, verbose=100)\n",
    "\n",
    "        valid_scores.append(model.best_score_['valid']['auc'])\n",
    "        train_scores.append(model.best_score_['train']['auc'])\n",
    "        params_['train_score_%s' % fold_i] = model.best_score_['train']['auc']\n",
    "        params_['valid_score_%s' % fold_i] = model.best_score_['valid']['auc']\n",
    "        fold_i += 1\n",
    "    \n",
    "    end = time.time()\n",
    "    params_['fit_time'] = end - start\n",
    "    params_['mean_train_score'] = np.mean(train_scores)\n",
    "    params_['mean_valid_score'] = np.mean(valid_scores)\n",
    "    cv_results.append(params_)\n",
    "    "
   ]
  },
  {
   "cell_type": "code",
   "execution_count": 31,
   "metadata": {
    "scrolled": false
   },
   "outputs": [
    {
     "data": {
      "text/html": [
       "<div>\n",
       "<style scoped>\n",
       "    .dataframe tbody tr th:only-of-type {\n",
       "        vertical-align: middle;\n",
       "    }\n",
       "\n",
       "    .dataframe tbody tr th {\n",
       "        vertical-align: top;\n",
       "    }\n",
       "\n",
       "    .dataframe thead th {\n",
       "        text-align: right;\n",
       "    }\n",
       "</style>\n",
       "<table border=\"1\" class=\"dataframe\">\n",
       "  <thead>\n",
       "    <tr style=\"text-align: right;\">\n",
       "      <th></th>\n",
       "      <th>fit_time</th>\n",
       "      <th>learning_rate</th>\n",
       "      <th>max_bin</th>\n",
       "      <th>max_depth</th>\n",
       "      <th>mean_train_score</th>\n",
       "      <th>mean_valid_score</th>\n",
       "      <th>min_child_samples</th>\n",
       "      <th>n_estimators</th>\n",
       "      <th>num_leaves</th>\n",
       "      <th>params</th>\n",
       "      <th>reg_alpha</th>\n",
       "      <th>reg_lambda</th>\n",
       "      <th>train_score_0</th>\n",
       "      <th>train_score_1</th>\n",
       "      <th>train_score_2</th>\n",
       "      <th>train_score_3</th>\n",
       "      <th>train_score_4</th>\n",
       "      <th>valid_score_0</th>\n",
       "      <th>valid_score_1</th>\n",
       "      <th>valid_score_2</th>\n",
       "      <th>valid_score_3</th>\n",
       "      <th>valid_score_4</th>\n",
       "    </tr>\n",
       "  </thead>\n",
       "  <tbody>\n",
       "    <tr>\n",
       "      <th>0</th>\n",
       "      <td>87.152045</td>\n",
       "      <td>0.01</td>\n",
       "      <td>127</td>\n",
       "      <td>-1</td>\n",
       "      <td>0.760919</td>\n",
       "      <td>0.745473</td>\n",
       "      <td>40</td>\n",
       "      <td>160</td>\n",
       "      <td>32</td>\n",
       "      <td>{'reg_alpha': 0.5, 'reg_lambda': 1.0, 'num_lea...</td>\n",
       "      <td>0.5</td>\n",
       "      <td>1.0</td>\n",
       "      <td>0.761489</td>\n",
       "      <td>0.761263</td>\n",
       "      <td>0.760758</td>\n",
       "      <td>0.760712</td>\n",
       "      <td>0.760371</td>\n",
       "      <td>0.742569</td>\n",
       "      <td>0.746477</td>\n",
       "      <td>0.746349</td>\n",
       "      <td>0.745379</td>\n",
       "      <td>0.746593</td>\n",
       "    </tr>\n",
       "    <tr>\n",
       "      <th>1</th>\n",
       "      <td>68.238248</td>\n",
       "      <td>0.10</td>\n",
       "      <td>255</td>\n",
       "      <td>-1</td>\n",
       "      <td>0.814306</td>\n",
       "      <td>0.774570</td>\n",
       "      <td>40</td>\n",
       "      <td>160</td>\n",
       "      <td>16</td>\n",
       "      <td>{'reg_alpha': 0.1, 'reg_lambda': 0.1, 'num_lea...</td>\n",
       "      <td>0.1</td>\n",
       "      <td>0.1</td>\n",
       "      <td>0.814303</td>\n",
       "      <td>0.814186</td>\n",
       "      <td>0.814375</td>\n",
       "      <td>0.814646</td>\n",
       "      <td>0.814021</td>\n",
       "      <td>0.773081</td>\n",
       "      <td>0.775153</td>\n",
       "      <td>0.774863</td>\n",
       "      <td>0.773559</td>\n",
       "      <td>0.776197</td>\n",
       "    </tr>\n",
       "  </tbody>\n",
       "</table>\n",
       "</div>"
      ],
      "text/plain": [
       "    fit_time  learning_rate  max_bin  max_depth  mean_train_score  \\\n",
       "0  87.152045           0.01      127         -1          0.760919   \n",
       "1  68.238248           0.10      255         -1          0.814306   \n",
       "\n",
       "   mean_valid_score  min_child_samples  n_estimators  num_leaves  \\\n",
       "0          0.745473                 40           160          32   \n",
       "1          0.774570                 40           160          16   \n",
       "\n",
       "                                              params  reg_alpha  reg_lambda  \\\n",
       "0  {'reg_alpha': 0.5, 'reg_lambda': 1.0, 'num_lea...        0.5         1.0   \n",
       "1  {'reg_alpha': 0.1, 'reg_lambda': 0.1, 'num_lea...        0.1         0.1   \n",
       "\n",
       "   train_score_0  train_score_1  train_score_2  train_score_3  train_score_4  \\\n",
       "0       0.761489       0.761263       0.760758       0.760712       0.760371   \n",
       "1       0.814303       0.814186       0.814375       0.814646       0.814021   \n",
       "\n",
       "   valid_score_0  valid_score_1  valid_score_2  valid_score_3  valid_score_4  \n",
       "0       0.742569       0.746477       0.746349       0.745379       0.746593  \n",
       "1       0.773081       0.775153       0.774863       0.773559       0.776197  "
      ]
     },
     "execution_count": 31,
     "metadata": {},
     "output_type": "execute_result"
    }
   ],
   "source": [
    "df_results = pd.DataFrame(cv_results)\n",
    "df_results"
   ]
  },
  {
   "cell_type": "code",
   "execution_count": 32,
   "metadata": {},
   "outputs": [
    {
     "data": {
      "text/plain": [
       "{'learning_rate': 0.1,\n",
       " 'max_bin': 255,\n",
       " 'max_depth': -1,\n",
       " 'min_child_samples': 40,\n",
       " 'n_estimators': 160,\n",
       " 'num_leaves': 16,\n",
       " 'reg_alpha': 0.1,\n",
       " 'reg_lambda': 0.1}"
      ]
     },
     "execution_count": 32,
     "metadata": {},
     "output_type": "execute_result"
    }
   ],
   "source": [
    "best_index = df_results.mean_valid_score.idxmax()\n",
    "df_results.iloc[best_index]['params']"
   ]
  },
  {
   "cell_type": "markdown",
   "metadata": {},
   "source": [
    "### Model K-Fold Execution"
   ]
  },
  {
   "cell_type": "code",
   "execution_count": 14,
   "metadata": {},
   "outputs": [
    {
     "ename": "KeyError",
     "evalue": "'[     0      1      2 ... 307507 307508 307509] not in index'",
     "output_type": "error",
     "traceback": [
      "\u001b[0;31m---------------------------------------------------------------------------\u001b[0m",
      "\u001b[0;31mKeyError\u001b[0m                                  Traceback (most recent call last)",
      "\u001b[0;32m<ipython-input-14-fcc0dd42bb99>\u001b[0m in \u001b[0;36m<module>\u001b[0;34m()\u001b[0m\n\u001b[1;32m     15\u001b[0m \u001b[0;34m\u001b[0m\u001b[0m\n\u001b[1;32m     16\u001b[0m     \u001b[0;31m# DataFrame version\u001b[0m\u001b[0;34m\u001b[0m\u001b[0;34m\u001b[0m\u001b[0m\n\u001b[0;32m---> 17\u001b[0;31m     \u001b[0mtrain_features\u001b[0m\u001b[0;34m,\u001b[0m \u001b[0mtrain_labels\u001b[0m \u001b[0;34m=\u001b[0m \u001b[0mtrain\u001b[0m\u001b[0;34m.\u001b[0m\u001b[0miloc\u001b[0m\u001b[0;34m[\u001b[0m\u001b[0mtrain_indices\u001b[0m\u001b[0;34m]\u001b[0m\u001b[0;34m,\u001b[0m \u001b[0mtargets\u001b[0m\u001b[0;34m[\u001b[0m\u001b[0mtrain_indices\u001b[0m\u001b[0;34m]\u001b[0m\u001b[0;34m\u001b[0m\u001b[0m\n\u001b[0m\u001b[1;32m     18\u001b[0m     \u001b[0mvalid_features\u001b[0m\u001b[0;34m,\u001b[0m \u001b[0mvalid_labels\u001b[0m \u001b[0;34m=\u001b[0m \u001b[0mtrain\u001b[0m\u001b[0;34m.\u001b[0m\u001b[0miloc\u001b[0m\u001b[0;34m[\u001b[0m\u001b[0mvalid_indices\u001b[0m\u001b[0;34m]\u001b[0m\u001b[0;34m,\u001b[0m \u001b[0mtargets\u001b[0m\u001b[0;34m[\u001b[0m\u001b[0mvalid_indices\u001b[0m\u001b[0;34m]\u001b[0m\u001b[0;34m\u001b[0m\u001b[0m\n\u001b[1;32m     19\u001b[0m     \u001b[0mtest_features\u001b[0m \u001b[0;34m=\u001b[0m \u001b[0mtest\u001b[0m\u001b[0;34m\u001b[0m\u001b[0m\n",
      "\u001b[0;32m/usr/local/lib/python3.5/dist-packages/pandas/core/frame.py\u001b[0m in \u001b[0;36m__getitem__\u001b[0;34m(self, key)\u001b[0m\n\u001b[1;32m   2131\u001b[0m         \u001b[0;32mif\u001b[0m \u001b[0misinstance\u001b[0m\u001b[0;34m(\u001b[0m\u001b[0mkey\u001b[0m\u001b[0;34m,\u001b[0m \u001b[0;34m(\u001b[0m\u001b[0mSeries\u001b[0m\u001b[0;34m,\u001b[0m \u001b[0mnp\u001b[0m\u001b[0;34m.\u001b[0m\u001b[0mndarray\u001b[0m\u001b[0;34m,\u001b[0m \u001b[0mIndex\u001b[0m\u001b[0;34m,\u001b[0m \u001b[0mlist\u001b[0m\u001b[0;34m)\u001b[0m\u001b[0;34m)\u001b[0m\u001b[0;34m:\u001b[0m\u001b[0;34m\u001b[0m\u001b[0m\n\u001b[1;32m   2132\u001b[0m             \u001b[0;31m# either boolean or fancy integer index\u001b[0m\u001b[0;34m\u001b[0m\u001b[0;34m\u001b[0m\u001b[0m\n\u001b[0;32m-> 2133\u001b[0;31m             \u001b[0;32mreturn\u001b[0m \u001b[0mself\u001b[0m\u001b[0;34m.\u001b[0m\u001b[0m_getitem_array\u001b[0m\u001b[0;34m(\u001b[0m\u001b[0mkey\u001b[0m\u001b[0;34m)\u001b[0m\u001b[0;34m\u001b[0m\u001b[0m\n\u001b[0m\u001b[1;32m   2134\u001b[0m         \u001b[0;32melif\u001b[0m \u001b[0misinstance\u001b[0m\u001b[0;34m(\u001b[0m\u001b[0mkey\u001b[0m\u001b[0;34m,\u001b[0m \u001b[0mDataFrame\u001b[0m\u001b[0;34m)\u001b[0m\u001b[0;34m:\u001b[0m\u001b[0;34m\u001b[0m\u001b[0m\n\u001b[1;32m   2135\u001b[0m             \u001b[0;32mreturn\u001b[0m \u001b[0mself\u001b[0m\u001b[0;34m.\u001b[0m\u001b[0m_getitem_frame\u001b[0m\u001b[0;34m(\u001b[0m\u001b[0mkey\u001b[0m\u001b[0;34m)\u001b[0m\u001b[0;34m\u001b[0m\u001b[0m\n",
      "\u001b[0;32m/usr/local/lib/python3.5/dist-packages/pandas/core/frame.py\u001b[0m in \u001b[0;36m_getitem_array\u001b[0;34m(self, key)\u001b[0m\n\u001b[1;32m   2175\u001b[0m             \u001b[0;32mreturn\u001b[0m \u001b[0mself\u001b[0m\u001b[0;34m.\u001b[0m\u001b[0m_take\u001b[0m\u001b[0;34m(\u001b[0m\u001b[0mindexer\u001b[0m\u001b[0;34m,\u001b[0m \u001b[0maxis\u001b[0m\u001b[0;34m=\u001b[0m\u001b[0;36m0\u001b[0m\u001b[0;34m,\u001b[0m \u001b[0mconvert\u001b[0m\u001b[0;34m=\u001b[0m\u001b[0;32mFalse\u001b[0m\u001b[0;34m)\u001b[0m\u001b[0;34m\u001b[0m\u001b[0m\n\u001b[1;32m   2176\u001b[0m         \u001b[0;32melse\u001b[0m\u001b[0;34m:\u001b[0m\u001b[0;34m\u001b[0m\u001b[0m\n\u001b[0;32m-> 2177\u001b[0;31m             \u001b[0mindexer\u001b[0m \u001b[0;34m=\u001b[0m \u001b[0mself\u001b[0m\u001b[0;34m.\u001b[0m\u001b[0mloc\u001b[0m\u001b[0;34m.\u001b[0m\u001b[0m_convert_to_indexer\u001b[0m\u001b[0;34m(\u001b[0m\u001b[0mkey\u001b[0m\u001b[0;34m,\u001b[0m \u001b[0maxis\u001b[0m\u001b[0;34m=\u001b[0m\u001b[0;36m1\u001b[0m\u001b[0;34m)\u001b[0m\u001b[0;34m\u001b[0m\u001b[0m\n\u001b[0m\u001b[1;32m   2178\u001b[0m             \u001b[0;32mreturn\u001b[0m \u001b[0mself\u001b[0m\u001b[0;34m.\u001b[0m\u001b[0m_take\u001b[0m\u001b[0;34m(\u001b[0m\u001b[0mindexer\u001b[0m\u001b[0;34m,\u001b[0m \u001b[0maxis\u001b[0m\u001b[0;34m=\u001b[0m\u001b[0;36m1\u001b[0m\u001b[0;34m,\u001b[0m \u001b[0mconvert\u001b[0m\u001b[0;34m=\u001b[0m\u001b[0;32mTrue\u001b[0m\u001b[0;34m)\u001b[0m\u001b[0;34m\u001b[0m\u001b[0m\n\u001b[1;32m   2179\u001b[0m \u001b[0;34m\u001b[0m\u001b[0m\n",
      "\u001b[0;32m/usr/local/lib/python3.5/dist-packages/pandas/core/indexing.py\u001b[0m in \u001b[0;36m_convert_to_indexer\u001b[0;34m(self, obj, axis, is_setter)\u001b[0m\n\u001b[1;32m   1267\u001b[0m                 \u001b[0;32mif\u001b[0m \u001b[0mmask\u001b[0m\u001b[0;34m.\u001b[0m\u001b[0many\u001b[0m\u001b[0;34m(\u001b[0m\u001b[0;34m)\u001b[0m\u001b[0;34m:\u001b[0m\u001b[0;34m\u001b[0m\u001b[0m\n\u001b[1;32m   1268\u001b[0m                     raise KeyError('{mask} not in index'\n\u001b[0;32m-> 1269\u001b[0;31m                                    .format(mask=objarr[mask]))\n\u001b[0m\u001b[1;32m   1270\u001b[0m \u001b[0;34m\u001b[0m\u001b[0m\n\u001b[1;32m   1271\u001b[0m                 \u001b[0;32mreturn\u001b[0m \u001b[0m_values_from_object\u001b[0m\u001b[0;34m(\u001b[0m\u001b[0mindexer\u001b[0m\u001b[0;34m)\u001b[0m\u001b[0;34m\u001b[0m\u001b[0m\n",
      "\u001b[0;31mKeyError\u001b[0m: '[     0      1      2 ... 307507 307508 307509] not in index'"
     ]
    }
   ],
   "source": [
    "features = np.array(train)\n",
    "test_features = np.array(test)\n",
    "k_fold = StratifiedKFold(n_splits=5, shuffle=True, random_state=42)\n",
    "\n",
    "valid_scores = []\n",
    "train_scores = []\n",
    "test_predictions = np.zeros(test_features.shape[0])\n",
    "\n",
    "for train_indices, valid_indices in k_fold.split(features, targets):\n",
    "    # Numpy version\n",
    "    # Training data for the fold\n",
    "    #train_features, train_labels = features[train_indices], targets[train_indices]\n",
    "    # Validation data for the fold\n",
    "    #valid_features, valid_labels = features[valid_indices], targets[valid_indices]\n",
    "    \n",
    "    # DataFrame version\n",
    "    train_features, train_labels = train.iloc[train_indices], targets.iloc[train_indices]\n",
    "    valid_features, valid_labels = train.iloc[valid_indices], targets.iloc[valid_indices]\n",
    "    test_features = test\n",
    "    \n",
    "    # d_train = lightgbm.Dataset(train_features, label=train_labels)\n",
    "    # d_valid = lightgbm.Dataset(valid_features, label=valid_labels)\n",
    "    # model = lightgbm.train(parameters, d_train, verbose_eval=100, valid_sets=[d_valid], num_boost_round=20000, early_stopping_rounds=200)\n",
    "    \n",
    "    # The ‘balanced’ mode uses the values of y to automatically adjust weights inversely proportional\n",
    "    # to class frequencies in the input data as n_samples / (n_classes * np.bincount(y))\n",
    "    model = lightgbm.LGBMClassifier(n_estimators=10000, objective='binary', \n",
    "                                    class_weight='balanced', learning_rate=0.0003, \n",
    "                                    num_leaves=31, max_depth=-1,\n",
    "                                    reg_alpha=3, reg_lambda=5, \n",
    "                                    subsample=0.8, n_jobs=6, random_state=4242)\n",
    "    \n",
    "    model.fit(train_features, train_labels, eval_metric='auc', categorical_feature=cat_features,\n",
    "                  eval_set=[(valid_features, valid_labels), (train_features, train_labels)],\n",
    "                  eval_names=['valid', 'train'], early_stopping_rounds=100, verbose=100)\n",
    "\n",
    "    best_iteration = model.best_iteration_\n",
    "    \n",
    "    test_predictions += model.predict_proba(test_features, num_iteration = best_iteration)[:, 1] / k_fold.n_splits\n",
    "    \n",
    "    valid_score = model.best_score_['valid']['auc']\n",
    "    train_score = model.best_score_['train']['auc']\n",
    "        \n",
    "    valid_scores.append(valid_score)\n",
    "    train_scores.append(train_score)\n"
   ]
  },
  {
   "cell_type": "code",
   "execution_count": null,
   "metadata": {},
   "outputs": [],
   "source": []
  },
  {
   "cell_type": "markdown",
   "metadata": {},
   "source": [
    "### Plots"
   ]
  },
  {
   "cell_type": "code",
   "execution_count": 28,
   "metadata": {},
   "outputs": [
    {
     "data": {
      "text/plain": [
       "<matplotlib.axes._subplots.AxesSubplot at 0x7fee329e6dd8>"
      ]
     },
     "execution_count": 28,
     "metadata": {},
     "output_type": "execute_result"
    },
    {
     "data": {
      "image/png": "[encoded data removed]",
      "text/plain": [
       "<matplotlib.figure.Figure at 0x7fee329e65c0>"
      ]
     },
     "metadata": {},
     "output_type": "display_data"
    }
   ],
   "source": [
    "lightgbm.plot_metric(model)"
   ]
  },
  {
   "cell_type": "code",
   "execution_count": null,
   "metadata": {},
   "outputs": [],
   "source": [
    "lightgbm.plot_tree(model)"
   ]
  },
  {
   "cell_type": "code",
   "execution_count": 33,
   "metadata": {
    "scrolled": true
   },
   "outputs": [
    {
     "data": {
      "text/plain": [
       "<matplotlib.axes._subplots.AxesSubplot at 0x7fee39730128>"
      ]
     },
     "execution_count": 33,
     "metadata": {},
     "output_type": "execute_result"
    },
    {
     "data": {
      "image/png": "[encoded data removed]",
      "text/plain": [
       "<matplotlib.figure.Figure at 0x7fee397364a8>"
      ]
     },
     "metadata": {},
     "output_type": "display_data"
    }
   ],
   "source": [
    "lightgbm.plot_importance(model, max_num_features=15)"
   ]
  },
  {
   "cell_type": "code",
   "execution_count": 44,
   "metadata": {},
   "outputs": [
    {
     "data": {
      "text/plain": [
       "<lightgbm.basic.Booster at 0x7fee681ebcc0>"
      ]
     },
     "execution_count": 44,
     "metadata": {},
     "output_type": "execute_result"
    }
   ],
   "source": [
    "model.booster_"
   ]
  },
  {
   "cell_type": "markdown",
   "metadata": {},
   "source": [
    "### Submission"
   ]
  },
  {
   "cell_type": "code",
   "execution_count": 35,
   "metadata": {},
   "outputs": [
    {
     "data": {
      "text/plain": [
       "'kaggle competitions submit -c home-credit-default-risk -f /home/inc/work/edu/ndml/capstone/submissions/submission-lightgbm.csv -m \"lightgbm\"'"
      ]
     },
     "execution_count": 35,
     "metadata": {},
     "output_type": "execute_result"
    }
   ],
   "source": [
    "submission = pd.DataFrame({'SK_ID_CURR': test_ids, 'TARGET': test_predictions})\n",
    "save_prediction(submission, 'lightgbm')"
   ]
  },
  {
   "cell_type": "code",
   "execution_count": null,
   "metadata": {},
   "outputs": [],
   "source": []
  }
 ],
 "metadata": {
  "kernelspec": {
   "display_name": "Python 3",
   "language": "python",
   "name": "python3"
  },
  "language_info": {
   "codemirror_mode": {
    "name": "ipython",
    "version": 3
   },
   "file_extension": ".py",
   "mimetype": "text/x-python",
   "name": "python",
   "nbconvert_exporter": "python",
   "pygments_lexer": "ipython3",
   "version": "3.5.2"
  }
 },
 "nbformat": 4,
 "nbformat_minor": 2
}
