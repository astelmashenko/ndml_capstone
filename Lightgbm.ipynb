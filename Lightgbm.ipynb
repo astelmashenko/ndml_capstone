{
 "cells": [
  {
   "cell_type": "markdown",
   "metadata": {},
   "source": [
    "# Lightgbm"
   ]
  },
  {
   "cell_type": "code",
   "execution_count": 1,
   "metadata": {},
   "outputs": [],
   "source": [
    "import numpy as np\n",
    "import pandas as pd\n",
    "\n",
    "import warnings\n",
    "warnings.filterwarnings('ignore')\n",
    "\n",
    "import lightgbm\n",
    "\n",
    "from sklearn.externals import joblib\n",
    "from sklearn.model_selection import StratifiedKFold\n",
    "from IPython.display import display\n",
    "\n",
    "from utils import *"
   ]
  },
  {
   "cell_type": "code",
   "execution_count": 2,
   "metadata": {},
   "outputs": [],
   "source": [
    "pd.set_option('display.max_columns', 500)\n",
    "pd.set_option('display.max_rows', 500)\n",
    "%load_ext autoreload\n",
    "%autoreload 2\n",
    "%matplotlib inline"
   ]
  },
  {
   "cell_type": "markdown",
   "metadata": {},
   "source": [
    "### Load possible outliers"
   ]
  },
  {
   "cell_type": "code",
   "execution_count": 3,
   "metadata": {},
   "outputs": [],
   "source": [
    "outliers_idx = np.load('isolation_forest_outliers.npy', mmap_mode='r')\n",
    "outliers_idx = np.array(outliers_idx)"
   ]
  },
  {
   "cell_type": "markdown",
   "metadata": {},
   "source": [
    "### Load data"
   ]
  },
  {
   "cell_type": "code",
   "execution_count": 4,
   "metadata": {},
   "outputs": [
    {
     "name": "stdout",
     "output_type": "stream",
     "text": [
      "(307511, 246)\n"
     ]
    }
   ],
   "source": [
    "train = joblib.load('models/train.joblib')\n",
    "print(train.shape)"
   ]
  },
  {
   "cell_type": "code",
   "execution_count": 5,
   "metadata": {},
   "outputs": [
    {
     "name": "stdout",
     "output_type": "stream",
     "text": [
      "(48744, 245)\n"
     ]
    }
   ],
   "source": [
    "test = joblib.load('models/test.joblib')\n",
    "print(test.shape)"
   ]
  },
  {
   "cell_type": "code",
   "execution_count": 6,
   "metadata": {},
   "outputs": [],
   "source": [
    "train = train.drop(index=train.index[outliers_idx])\n",
    "train = train.reset_index(drop=True)\n",
    "targets = train['TARGET']\n",
    "\n",
    "train_ids = train['SK_ID_CURR']\n",
    "train = train.drop(columns=['SK_ID_CURR', 'TARGET'])"
   ]
  },
  {
   "cell_type": "code",
   "execution_count": 7,
   "metadata": {},
   "outputs": [],
   "source": [
    "test_ids = test['SK_ID_CURR']\n",
    "test = test.drop(columns=['SK_ID_CURR'])"
   ]
  },
  {
   "cell_type": "markdown",
   "metadata": {},
   "source": [
    "### Drop redundant columns"
   ]
  },
  {
   "cell_type": "code",
   "execution_count": 8,
   "metadata": {},
   "outputs": [],
   "source": [
    "cols_drop = appartment_mode_cols + appartment_medi_cols\n",
    "train.drop(columns=cols_drop, inplace=True)\n",
    "test.drop(columns=cols_drop, inplace=True)"
   ]
  },
  {
   "cell_type": "code",
   "execution_count": 9,
   "metadata": {},
   "outputs": [
    {
     "name": "stdout",
     "output_type": "stream",
     "text": [
      "(307245, 224)\n",
      "(48744, 224)\n"
     ]
    }
   ],
   "source": [
    "print(train.shape)\n",
    "print(test.shape)"
   ]
  },
  {
   "cell_type": "markdown",
   "metadata": {},
   "source": [
    "### Convert to np arrays"
   ]
  },
  {
   "cell_type": "code",
   "execution_count": 10,
   "metadata": {},
   "outputs": [],
   "source": [
    "features = np.array(train)\n",
    "test_features = np.array(test)"
   ]
  },
  {
   "cell_type": "code",
   "execution_count": 13,
   "metadata": {},
   "outputs": [
    {
     "name": "stdout",
     "output_type": "stream",
     "text": [
      "Training until validation scores don't improve for 100 rounds.\n",
      "[100]\tvalid's auc: 0.731795\ttrain's auc: 0.728228\n",
      "[200]\tvalid's auc: 0.732742\ttrain's auc: 0.72955\n",
      "[300]\tvalid's auc: 0.733901\ttrain's auc: 0.731015\n",
      "[400]\tvalid's auc: 0.735059\ttrain's auc: 0.732443\n",
      "[500]\tvalid's auc: 0.736009\ttrain's auc: 0.733677\n",
      "[600]\tvalid's auc: 0.737003\ttrain's auc: 0.734935\n",
      "[700]\tvalid's auc: 0.737852\ttrain's auc: 0.736129\n",
      "[800]\tvalid's auc: 0.738712\ttrain's auc: 0.737395\n",
      "[900]\tvalid's auc: 0.739581\ttrain's auc: 0.738653\n",
      "[1000]\tvalid's auc: 0.740455\ttrain's auc: 0.73993\n",
      "[1100]\tvalid's auc: 0.741287\ttrain's auc: 0.741195\n",
      "[1200]\tvalid's auc: 0.742165\ttrain's auc: 0.742486\n",
      "[1300]\tvalid's auc: 0.743041\ttrain's auc: 0.743781\n",
      "[1400]\tvalid's auc: 0.743871\ttrain's auc: 0.74504\n",
      "[1500]\tvalid's auc: 0.744685\ttrain's auc: 0.746269\n",
      "[1600]\tvalid's auc: 0.745487\ttrain's auc: 0.747488\n",
      "[1700]\tvalid's auc: 0.746286\ttrain's auc: 0.748697\n",
      "[1800]\tvalid's auc: 0.747048\ttrain's auc: 0.749882\n",
      "[1900]\tvalid's auc: 0.74781\ttrain's auc: 0.75114\n",
      "[2000]\tvalid's auc: 0.748548\ttrain's auc: 0.752354\n",
      "[2100]\tvalid's auc: 0.749207\ttrain's auc: 0.753521\n",
      "[2200]\tvalid's auc: 0.7499\ttrain's auc: 0.754668\n",
      "[2300]\tvalid's auc: 0.750544\ttrain's auc: 0.755804\n",
      "[2400]\tvalid's auc: 0.751152\ttrain's auc: 0.756849\n",
      "[2500]\tvalid's auc: 0.751741\ttrain's auc: 0.757898\n",
      "[2600]\tvalid's auc: 0.752299\ttrain's auc: 0.758895\n",
      "[2700]\tvalid's auc: 0.752781\ttrain's auc: 0.759832\n",
      "[2800]\tvalid's auc: 0.753285\ttrain's auc: 0.760779\n",
      "[2900]\tvalid's auc: 0.753692\ttrain's auc: 0.761603\n",
      "[3000]\tvalid's auc: 0.754132\ttrain's auc: 0.762478\n",
      "[3100]\tvalid's auc: 0.754529\ttrain's auc: 0.763305\n",
      "[3200]\tvalid's auc: 0.754894\ttrain's auc: 0.764086\n",
      "[3300]\tvalid's auc: 0.755262\ttrain's auc: 0.76487\n",
      "[3400]\tvalid's auc: 0.755609\ttrain's auc: 0.765618\n",
      "[3500]\tvalid's auc: 0.755944\ttrain's auc: 0.766349\n",
      "[3600]\tvalid's auc: 0.756271\ttrain's auc: 0.767071\n",
      "[3700]\tvalid's auc: 0.756568\ttrain's auc: 0.767761\n",
      "[3800]\tvalid's auc: 0.756859\ttrain's auc: 0.768436\n",
      "[3900]\tvalid's auc: 0.75714\ttrain's auc: 0.769109\n",
      "[4000]\tvalid's auc: 0.757411\ttrain's auc: 0.769767\n",
      "[4100]\tvalid's auc: 0.757648\ttrain's auc: 0.77039\n",
      "[4200]\tvalid's auc: 0.757866\ttrain's auc: 0.770994\n",
      "[4300]\tvalid's auc: 0.758104\ttrain's auc: 0.77161\n",
      "[4400]\tvalid's auc: 0.758331\ttrain's auc: 0.772215\n",
      "[4500]\tvalid's auc: 0.758542\ttrain's auc: 0.772798\n",
      "[4600]\tvalid's auc: 0.758761\ttrain's auc: 0.773385\n",
      "[4700]\tvalid's auc: 0.758973\ttrain's auc: 0.773957\n",
      "[4800]\tvalid's auc: 0.759183\ttrain's auc: 0.774524\n",
      "[4900]\tvalid's auc: 0.759366\ttrain's auc: 0.775075\n",
      "[5000]\tvalid's auc: 0.759526\ttrain's auc: 0.77561\n",
      "[5100]\tvalid's auc: 0.75967\ttrain's auc: 0.776133\n",
      "[5200]\tvalid's auc: 0.759816\ttrain's auc: 0.776653\n",
      "[5300]\tvalid's auc: 0.75997\ttrain's auc: 0.777175\n",
      "[5400]\tvalid's auc: 0.760133\ttrain's auc: 0.777688\n",
      "[5500]\tvalid's auc: 0.760268\ttrain's auc: 0.778187\n",
      "[5600]\tvalid's auc: 0.760397\ttrain's auc: 0.778687\n",
      "[5700]\tvalid's auc: 0.760511\ttrain's auc: 0.779173\n",
      "[5800]\tvalid's auc: 0.760635\ttrain's auc: 0.779658\n",
      "[5900]\tvalid's auc: 0.760762\ttrain's auc: 0.780138\n",
      "[6000]\tvalid's auc: 0.760884\ttrain's auc: 0.780609\n",
      "[6100]\tvalid's auc: 0.760991\ttrain's auc: 0.781076\n",
      "[6200]\tvalid's auc: 0.761103\ttrain's auc: 0.781541\n",
      "[6300]\tvalid's auc: 0.761192\ttrain's auc: 0.782002\n",
      "[6400]\tvalid's auc: 0.761294\ttrain's auc: 0.782458\n",
      "[6500]\tvalid's auc: 0.76139\ttrain's auc: 0.782908\n",
      "[6600]\tvalid's auc: 0.761468\ttrain's auc: 0.783354\n",
      "[6700]\tvalid's auc: 0.761559\ttrain's auc: 0.783802\n",
      "[6800]\tvalid's auc: 0.761638\ttrain's auc: 0.784249\n",
      "[6900]\tvalid's auc: 0.761715\ttrain's auc: 0.784689\n",
      "[7000]\tvalid's auc: 0.761777\ttrain's auc: 0.785109\n",
      "[7100]\tvalid's auc: 0.761856\ttrain's auc: 0.785539\n",
      "[7200]\tvalid's auc: 0.761931\ttrain's auc: 0.785968\n",
      "[7300]\tvalid's auc: 0.761988\ttrain's auc: 0.786399\n",
      "[7400]\tvalid's auc: 0.762073\ttrain's auc: 0.786823\n",
      "[7500]\tvalid's auc: 0.762128\ttrain's auc: 0.787229\n",
      "[7600]\tvalid's auc: 0.762178\ttrain's auc: 0.787643\n",
      "[7700]\tvalid's auc: 0.762229\ttrain's auc: 0.788049\n",
      "[7800]\tvalid's auc: 0.76228\ttrain's auc: 0.788456\n",
      "[7900]\tvalid's auc: 0.762343\ttrain's auc: 0.788863\n",
      "[8000]\tvalid's auc: 0.762396\ttrain's auc: 0.789267\n",
      "[8100]\tvalid's auc: 0.762443\ttrain's auc: 0.789671\n",
      "[8200]\tvalid's auc: 0.762492\ttrain's auc: 0.790066\n",
      "[8300]\tvalid's auc: 0.76254\ttrain's auc: 0.790468\n",
      "[8400]\tvalid's auc: 0.762594\ttrain's auc: 0.790863\n",
      "[8500]\tvalid's auc: 0.762644\ttrain's auc: 0.791249\n",
      "[8600]\tvalid's auc: 0.762679\ttrain's auc: 0.791632\n",
      "[8700]\tvalid's auc: 0.762706\ttrain's auc: 0.792018\n",
      "[8800]\tvalid's auc: 0.762746\ttrain's auc: 0.792406\n",
      "[8900]\tvalid's auc: 0.762779\ttrain's auc: 0.792793\n",
      "[9000]\tvalid's auc: 0.762807\ttrain's auc: 0.79317\n",
      "[9100]\tvalid's auc: 0.762839\ttrain's auc: 0.793548\n",
      "[9200]\tvalid's auc: 0.762871\ttrain's auc: 0.793923\n",
      "[9300]\tvalid's auc: 0.762902\ttrain's auc: 0.794293\n",
      "[9400]\tvalid's auc: 0.762928\ttrain's auc: 0.794667\n",
      "[9500]\tvalid's auc: 0.762962\ttrain's auc: 0.79504\n",
      "[9600]\tvalid's auc: 0.762984\ttrain's auc: 0.795402\n",
      "[9700]\tvalid's auc: 0.763025\ttrain's auc: 0.795788\n",
      "[9800]\tvalid's auc: 0.76306\ttrain's auc: 0.796164\n",
      "[9900]\tvalid's auc: 0.763089\ttrain's auc: 0.79653\n",
      "[10000]\tvalid's auc: 0.7631\ttrain's auc: 0.79689\n",
      "Did not meet early stopping. Best iteration is:\n",
      "[9979]\tvalid's auc: 0.763101\ttrain's auc: 0.796818\n",
      "Training until validation scores don't improve for 100 rounds.\n",
      "[100]\tvalid's auc: 0.717285\ttrain's auc: 0.731035\n",
      "[200]\tvalid's auc: 0.718371\ttrain's auc: 0.732409\n",
      "[300]\tvalid's auc: 0.71957\ttrain's auc: 0.733698\n",
      "[400]\tvalid's auc: 0.720729\ttrain's auc: 0.734979\n",
      "[500]\tvalid's auc: 0.72179\ttrain's auc: 0.736164\n",
      "[600]\tvalid's auc: 0.722777\ttrain's auc: 0.737319\n",
      "[700]\tvalid's auc: 0.723793\ttrain's auc: 0.738464\n",
      "[800]\tvalid's auc: 0.724795\ttrain's auc: 0.739587\n",
      "[900]\tvalid's auc: 0.7258\ttrain's auc: 0.740764\n",
      "[1000]\tvalid's auc: 0.726968\ttrain's auc: 0.742034\n",
      "[1100]\tvalid's auc: 0.728019\ttrain's auc: 0.743252\n",
      "[1200]\tvalid's auc: 0.729041\ttrain's auc: 0.744491\n"
     ]
    },
    {
     "ename": "KeyboardInterrupt",
     "evalue": "",
     "output_type": "error",
     "traceback": [
      "\u001b[0;31m---------------------------------------------------------------------------\u001b[0m",
      "\u001b[0;31mKeyboardInterrupt\u001b[0m                         Traceback (most recent call last)",
      "\u001b[0;32m<ipython-input-13-e507ca6e4d10>\u001b[0m in \u001b[0;36m<module>\u001b[0;34m()\u001b[0m\n\u001b[1;32m     24\u001b[0m     model.fit(train_features, train_labels, eval_metric='auc',\n\u001b[1;32m     25\u001b[0m                   \u001b[0meval_set\u001b[0m\u001b[0;34m=\u001b[0m\u001b[0;34m[\u001b[0m\u001b[0;34m(\u001b[0m\u001b[0mvalid_features\u001b[0m\u001b[0;34m,\u001b[0m \u001b[0mvalid_labels\u001b[0m\u001b[0;34m)\u001b[0m\u001b[0;34m,\u001b[0m \u001b[0;34m(\u001b[0m\u001b[0mtrain_features\u001b[0m\u001b[0;34m,\u001b[0m \u001b[0mtrain_labels\u001b[0m\u001b[0;34m)\u001b[0m\u001b[0;34m]\u001b[0m\u001b[0;34m,\u001b[0m\u001b[0;34m\u001b[0m\u001b[0m\n\u001b[0;32m---> 26\u001b[0;31m                   eval_names=['valid', 'train'], early_stopping_rounds=100, verbose=100)\n\u001b[0m\u001b[1;32m     27\u001b[0m \u001b[0;34m\u001b[0m\u001b[0m\n\u001b[1;32m     28\u001b[0m     \u001b[0mbest_iteration\u001b[0m \u001b[0;34m=\u001b[0m \u001b[0mmodel\u001b[0m\u001b[0;34m.\u001b[0m\u001b[0mbest_iteration_\u001b[0m\u001b[0;34m\u001b[0m\u001b[0m\n",
      "\u001b[0;32m/usr/local/lib/python3.5/dist-packages/lightgbm/sklearn.py\u001b[0m in \u001b[0;36mfit\u001b[0;34m(self, X, y, sample_weight, init_score, eval_set, eval_names, eval_sample_weight, eval_class_weight, eval_init_score, eval_metric, early_stopping_rounds, verbose, feature_name, categorical_feature, callbacks)\u001b[0m\n\u001b[1;32m    673\u001b[0m                                         \u001b[0mverbose\u001b[0m\u001b[0;34m=\u001b[0m\u001b[0mverbose\u001b[0m\u001b[0;34m,\u001b[0m \u001b[0mfeature_name\u001b[0m\u001b[0;34m=\u001b[0m\u001b[0mfeature_name\u001b[0m\u001b[0;34m,\u001b[0m\u001b[0;34m\u001b[0m\u001b[0m\n\u001b[1;32m    674\u001b[0m                                         \u001b[0mcategorical_feature\u001b[0m\u001b[0;34m=\u001b[0m\u001b[0mcategorical_feature\u001b[0m\u001b[0;34m,\u001b[0m\u001b[0;34m\u001b[0m\u001b[0m\n\u001b[0;32m--> 675\u001b[0;31m                                         callbacks=callbacks)\n\u001b[0m\u001b[1;32m    676\u001b[0m         \u001b[0;32mreturn\u001b[0m \u001b[0mself\u001b[0m\u001b[0;34m\u001b[0m\u001b[0m\n\u001b[1;32m    677\u001b[0m \u001b[0;34m\u001b[0m\u001b[0m\n",
      "\u001b[0;32m/usr/local/lib/python3.5/dist-packages/lightgbm/sklearn.py\u001b[0m in \u001b[0;36mfit\u001b[0;34m(self, X, y, sample_weight, init_score, group, eval_set, eval_names, eval_sample_weight, eval_class_weight, eval_init_score, eval_group, eval_metric, early_stopping_rounds, verbose, feature_name, categorical_feature, callbacks)\u001b[0m\n\u001b[1;32m    467\u001b[0m                               \u001b[0mverbose_eval\u001b[0m\u001b[0;34m=\u001b[0m\u001b[0mverbose\u001b[0m\u001b[0;34m,\u001b[0m \u001b[0mfeature_name\u001b[0m\u001b[0;34m=\u001b[0m\u001b[0mfeature_name\u001b[0m\u001b[0;34m,\u001b[0m\u001b[0;34m\u001b[0m\u001b[0m\n\u001b[1;32m    468\u001b[0m                               \u001b[0mcategorical_feature\u001b[0m\u001b[0;34m=\u001b[0m\u001b[0mcategorical_feature\u001b[0m\u001b[0;34m,\u001b[0m\u001b[0;34m\u001b[0m\u001b[0m\n\u001b[0;32m--> 469\u001b[0;31m                               callbacks=callbacks)\n\u001b[0m\u001b[1;32m    470\u001b[0m \u001b[0;34m\u001b[0m\u001b[0m\n\u001b[1;32m    471\u001b[0m         \u001b[0;32mif\u001b[0m \u001b[0mevals_result\u001b[0m\u001b[0;34m:\u001b[0m\u001b[0;34m\u001b[0m\u001b[0m\n",
      "\u001b[0;32m/usr/local/lib/python3.5/dist-packages/lightgbm/engine.py\u001b[0m in \u001b[0;36mtrain\u001b[0;34m(params, train_set, num_boost_round, valid_sets, valid_names, fobj, feval, init_model, feature_name, categorical_feature, early_stopping_rounds, evals_result, verbose_eval, learning_rates, keep_training_booster, callbacks)\u001b[0m\n\u001b[1;32m    199\u001b[0m                                     evaluation_result_list=None))\n\u001b[1;32m    200\u001b[0m \u001b[0;34m\u001b[0m\u001b[0m\n\u001b[0;32m--> 201\u001b[0;31m         \u001b[0mbooster\u001b[0m\u001b[0;34m.\u001b[0m\u001b[0mupdate\u001b[0m\u001b[0;34m(\u001b[0m\u001b[0mfobj\u001b[0m\u001b[0;34m=\u001b[0m\u001b[0mfobj\u001b[0m\u001b[0;34m)\u001b[0m\u001b[0;34m\u001b[0m\u001b[0m\n\u001b[0m\u001b[1;32m    202\u001b[0m \u001b[0;34m\u001b[0m\u001b[0m\n\u001b[1;32m    203\u001b[0m         \u001b[0mevaluation_result_list\u001b[0m \u001b[0;34m=\u001b[0m \u001b[0;34m[\u001b[0m\u001b[0;34m]\u001b[0m\u001b[0;34m\u001b[0m\u001b[0m\n",
      "\u001b[0;32m/usr/local/lib/python3.5/dist-packages/lightgbm/basic.py\u001b[0m in \u001b[0;36mupdate\u001b[0;34m(self, train_set, fobj)\u001b[0m\n\u001b[1;32m   1522\u001b[0m             _safe_call(_LIB.LGBM_BoosterUpdateOneIter(\n\u001b[1;32m   1523\u001b[0m                 \u001b[0mself\u001b[0m\u001b[0;34m.\u001b[0m\u001b[0mhandle\u001b[0m\u001b[0;34m,\u001b[0m\u001b[0;34m\u001b[0m\u001b[0m\n\u001b[0;32m-> 1524\u001b[0;31m                 ctypes.byref(is_finished)))\n\u001b[0m\u001b[1;32m   1525\u001b[0m             \u001b[0mself\u001b[0m\u001b[0;34m.\u001b[0m\u001b[0m__is_predicted_cur_iter\u001b[0m \u001b[0;34m=\u001b[0m \u001b[0;34m[\u001b[0m\u001b[0;32mFalse\u001b[0m \u001b[0;32mfor\u001b[0m \u001b[0m_\u001b[0m \u001b[0;32min\u001b[0m \u001b[0mrange_\u001b[0m\u001b[0;34m(\u001b[0m\u001b[0mself\u001b[0m\u001b[0;34m.\u001b[0m\u001b[0m__num_dataset\u001b[0m\u001b[0;34m)\u001b[0m\u001b[0;34m]\u001b[0m\u001b[0;34m\u001b[0m\u001b[0m\n\u001b[1;32m   1526\u001b[0m             \u001b[0;32mreturn\u001b[0m \u001b[0mis_finished\u001b[0m\u001b[0;34m.\u001b[0m\u001b[0mvalue\u001b[0m \u001b[0;34m==\u001b[0m \u001b[0;36m1\u001b[0m\u001b[0;34m\u001b[0m\u001b[0m\n",
      "\u001b[0;31mKeyboardInterrupt\u001b[0m: "
     ]
    }
   ],
   "source": [
    "k_fold = StratifiedKFold(n_splits=5, shuffle=True, random_state=42)\n",
    "\n",
    "valid_scores = []\n",
    "train_scores = []\n",
    "test_predictions = np.zeros(test_features.shape[0])\n",
    "\n",
    "for train_indices, valid_indices in k_fold.split(features, targets):\n",
    "    # Training data for the fold\n",
    "    train_features, train_labels = features[train_indices], targets[train_indices]\n",
    "    # Validation data for the fold\n",
    "    valid_features, valid_labels = features[valid_indices], targets[valid_indices]\n",
    "    \n",
    "    # d_train = lightgbm.Dataset(train_features, label=train_labels)\n",
    "    # d_valid = lightgbm.Dataset(valid_features, label=valid_labels)\n",
    "    # model = lightgbm.train(parameters, d_train, verbose_eval=100, valid_sets=[d_valid], num_boost_round=20000, early_stopping_rounds=200)\n",
    "    \n",
    "    # The ‘balanced’ mode uses the values of y to automatically adjust weights inversely proportional\n",
    "    # to class frequencies in the input data as n_samples / (n_classes * np.bincount(y))\n",
    "    model = lightgbm.LGBMClassifier(n_estimators=10000, objective='binary', \n",
    "                                   class_weight='balanced', learning_rate=0.001, \n",
    "                                   reg_alpha=0.3, reg_lambda=0.3, \n",
    "                                   subsample=0.8, n_jobs=6, random_state=4242)\n",
    "    \n",
    "    model.fit(train_features, train_labels, eval_metric='auc',\n",
    "                  eval_set=[(valid_features, valid_labels), (train_features, train_labels)],\n",
    "                  eval_names=['valid', 'train'], early_stopping_rounds=100, verbose=100)\n",
    "\n",
    "    best_iteration = model.best_iteration_\n",
    "    \n",
    "    test_predictions += model.predict_proba(test_features, num_iteration = best_iteration)[:, 1] / k_fold.n_splits\n",
    "    \n",
    "    valid_score = model.best_score_['valid']['auc']\n",
    "    train_score = model.best_score_['train']['auc']\n",
    "        \n",
    "    valid_scores.append(valid_score)\n",
    "    train_scores.append(train_score)\n"
   ]
  },
  {
   "cell_type": "code",
   "execution_count": 12,
   "metadata": {},
   "outputs": [],
   "source": [
    "submission = pd.DataFrame({'SK_ID_CURR': test_ids, 'TARGET': test_predictions})\n",
    "submission.to_csv('submissions/lightgbm.csv', index=False)"
   ]
  },
  {
   "cell_type": "code",
   "execution_count": null,
   "metadata": {},
   "outputs": [],
   "source": []
  }
 ],
 "metadata": {
  "kernelspec": {
   "display_name": "Python 3",
   "language": "python",
   "name": "python3"
  },
  "language_info": {
   "codemirror_mode": {
    "name": "ipython",
    "version": 3
   },
   "file_extension": ".py",
   "mimetype": "text/x-python",
   "name": "python",
   "nbconvert_exporter": "python",
   "pygments_lexer": "ipython3",
   "version": "3.5.2"
  }
 },
 "nbformat": 4,
 "nbformat_minor": 2
}
