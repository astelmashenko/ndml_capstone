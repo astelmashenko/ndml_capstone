{
 "cells": [
  {
   "cell_type": "markdown",
   "metadata": {},
   "source": [
    "# Lightgbm"
   ]
  },
  {
   "cell_type": "code",
   "execution_count": 1,
   "metadata": {},
   "outputs": [],
   "source": [
    "import numpy as np\n",
    "import pandas as pd\n",
    "\n",
    "import warnings\n",
    "warnings.filterwarnings('ignore')\n",
    "\n",
    "import lightgbm\n",
    "\n",
    "from sklearn.externals import joblib\n",
    "from sklearn.model_selection import StratifiedKFold\n",
    "from IPython.display import display"
   ]
  },
  {
   "cell_type": "code",
   "execution_count": 2,
   "metadata": {},
   "outputs": [],
   "source": [
    "train = joblib.load('models/train.joblib')\n",
    "targets = train['TARGET']\n",
    "\n",
    "train_ids = train['SK_ID_CURR']\n",
    "train = train.drop(columns=['SK_ID_CURR', 'TARGET'])\n",
    "\n"
   ]
  },
  {
   "cell_type": "code",
   "execution_count": 4,
   "metadata": {},
   "outputs": [],
   "source": [
    "test = joblib.load('models/test.joblib')\n",
    "test_ids = test['SK_ID_CURR']\n",
    "test = test.drop(columns=['SK_ID_CURR'])"
   ]
  },
  {
   "cell_type": "code",
   "execution_count": 5,
   "metadata": {},
   "outputs": [],
   "source": [
    "# Convert to np arrays\n",
    "features = np.array(train)\n",
    "test_features = np.array(test)"
   ]
  },
  {
   "cell_type": "code",
   "execution_count": 8,
   "metadata": {},
   "outputs": [
    {
     "name": "stdout",
     "output_type": "stream",
     "text": [
      "Training until validation scores don't improve for 200 rounds.\n",
      "[100]\tvalid_0's auc: 0.747797\n",
      "[200]\tvalid_0's auc: 0.755032\n",
      "[300]\tvalid_0's auc: 0.755253\n",
      "[400]\tvalid_0's auc: 0.75535\n",
      "Early stopping, best iteration is:\n",
      "[264]\tvalid_0's auc: 0.7556\n",
      "Training until validation scores don't improve for 200 rounds.\n",
      "[100]\tvalid_0's auc: 0.750617\n",
      "[200]\tvalid_0's auc: 0.758194\n",
      "[300]\tvalid_0's auc: 0.759359\n",
      "[400]\tvalid_0's auc: 0.759303\n",
      "[500]\tvalid_0's auc: 0.759168\n",
      "Early stopping, best iteration is:\n",
      "[313]\tvalid_0's auc: 0.759424\n",
      "Training until validation scores don't improve for 200 rounds.\n",
      "[100]\tvalid_0's auc: 0.751074\n",
      "[200]\tvalid_0's auc: 0.75871\n",
      "[300]\tvalid_0's auc: 0.759203\n",
      "[400]\tvalid_0's auc: 0.758847\n",
      "Early stopping, best iteration is:\n",
      "[289]\tvalid_0's auc: 0.759327\n",
      "Training until validation scores don't improve for 200 rounds.\n",
      "[100]\tvalid_0's auc: 0.748821\n",
      "[200]\tvalid_0's auc: 0.756145\n",
      "[300]\tvalid_0's auc: 0.756399\n",
      "[400]\tvalid_0's auc: 0.756687\n",
      "[500]\tvalid_0's auc: 0.756371\n",
      "[600]\tvalid_0's auc: 0.755993\n",
      "Early stopping, best iteration is:\n",
      "[402]\tvalid_0's auc: 0.75672\n",
      "Training until validation scores don't improve for 200 rounds.\n",
      "[100]\tvalid_0's auc: 0.749842\n",
      "[200]\tvalid_0's auc: 0.757174\n",
      "[300]\tvalid_0's auc: 0.756769\n",
      "[400]\tvalid_0's auc: 0.756806\n",
      "Early stopping, best iteration is:\n",
      "[205]\tvalid_0's auc: 0.757277\n"
     ]
    }
   ],
   "source": [
    "parameters = {\n",
    "    'task': 'train',\n",
    "    'objective': 'binary',\n",
    "    'metric': 'auc',\n",
    "    'learning_rate': 0.05,\n",
    "    'nthread': 6,\n",
    "    'max_depth': 10\n",
    "    #'device': 'gpu'\n",
    "}\n",
    "\n",
    "k_fold = StratifiedKFold(n_splits=5, shuffle=True, random_state=42)\n",
    "\n",
    "valid_scores = []\n",
    "train_scores = []\n",
    "\n",
    "for train_indices, valid_indices in k_fold.split(features, targets):\n",
    "    # Training data for the fold\n",
    "    train_features, train_labels = features[train_indices], targets[train_indices]\n",
    "    # Validation data for the fold\n",
    "    valid_features, valid_labels = features[valid_indices], targets[valid_indices]\n",
    "    \n",
    "    d_train = lightgbm.Dataset(train_features, label=train_labels)\n",
    "    d_valid = lightgbm.Dataset(valid_features, label=valid_labels)\n",
    "    \n",
    "    model = lightgbm.train(parameters,\n",
    "                       d_train,\n",
    "                       verbose_eval=100,\n",
    "                       valid_sets=[d_valid],\n",
    "                       num_boost_round=20000,\n",
    "                       early_stopping_rounds=200)\n",
    "\n",
    "    #alid_scores.append(model.best_score_['valid']['auc'])\n",
    "    #rain_scores.append(model.best_score_['train']['auc'])\n",
    "    \n",
    "    #_pred = model.predict(test)\n",
    "    "
   ]
  },
  {
   "cell_type": "code",
   "execution_count": null,
   "metadata": {},
   "outputs": [],
   "source": []
  }
 ],
 "metadata": {
  "kernelspec": {
   "display_name": "Python 3",
   "language": "python",
   "name": "python3"
  },
  "language_info": {
   "codemirror_mode": {
    "name": "ipython",
    "version": 3
   },
   "file_extension": ".py",
   "mimetype": "text/x-python",
   "name": "python",
   "nbconvert_exporter": "python",
   "pygments_lexer": "ipython3",
   "version": "3.5.2"
  }
 },
 "nbformat": 4,
 "nbformat_minor": 2
}
